{
 "cells": [
  {
   "cell_type": "code",
   "execution_count": 17,
   "metadata": {},
   "outputs": [],
   "source": [
    "import pandas as pd\n",
    "import numpy as np\n",
    "import copy\n",
    "import category_encoders as ce"
   ]
  },
  {
   "cell_type": "code",
   "execution_count": 18,
   "metadata": {},
   "outputs": [],
   "source": [
    "df_sw_pots=pd.read_csv('/Users/erikgjesfjeld/Dropbox/CAA_2019_Krakow/sw_pots.csv')\n",
    "cat_df_sw_pots=df_sw_pots.select_dtypes(include=['object']).copy()"
   ]
  },
  {
   "cell_type": "code",
   "execution_count": 27,
   "metadata": {},
   "outputs": [],
   "source": [
    "#Replace numeric encoding\n",
    "labels_ware = cat_df_sw_pots['ware'].astype('category').cat.categories.tolist()\n",
    "labels_type = cat_df_sw_pots['type'].astype('category').cat.categories.tolist()\n",
    "replace_map_comp_ware = {'ware' : {k: v for k,v in zip(labels_ware,list(range(1,len(labels_ware)+1)))}}\n",
    "replace_map_comp_type = {'type' : {k: v for k,v in zip(labels_type,list(range(1,len(labels_type)+1)))}}\n",
    "cat_df_sw_pots_replace = cat_df_sw_pots.copy()\n",
    "cat_df_sw_pots_replace.replace(replace_map_comp_ware, inplace=True)\n",
    "cat_df_sw_pots_replace.replace(replace_map_comp_type, inplace=True)\n",
    "cat_df_sw_pots_replace.to_csv('/Users/erikgjesfjeld/Dropbox/CAA_2019_Krakow/sw_pots_replace_encode.csv',index=False)"
   ]
  },
  {
   "cell_type": "code",
   "execution_count": 28,
   "metadata": {},
   "outputs": [],
   "source": [
    "##Label encoding\n",
    "cat_df_sw_pots_lc = cat_df_sw_pots.copy()\n",
    "cat_df_sw_pots_lc['type'] = cat_df_sw_pots_lc['type'].astype('category')\n",
    "cat_df_sw_pots_lc['ware']=cat_df_sw_pots_lc['ware'].astype('category')\n",
    "cat_df_sw_pots_lc['type'] = cat_df_sw_pots_lc['type'].cat.codes\n",
    "cat_df_sw_pots_lc['ware'] = cat_df_sw_pots_lc['ware'].cat.codes\n",
    "cat_df_sw_pots_lc.to_csv('/Users/erikgjesfjeld/Dropbox/CAA_2019_Krakow/sw_pots_label_encode.csv',index=False)"
   ]
  },
  {
   "cell_type": "code",
   "execution_count": 29,
   "metadata": {},
   "outputs": [],
   "source": [
    "##One-hot encoding\n",
    "cat_df_sw_pots_onehot = cat_df_sw_pots.copy()\n",
    "cat_df_sw_pots_onehot = pd.get_dummies(cat_df_sw_pots_onehot, columns=['ware'], prefix = ['ware'])\n",
    "cat_df_sw_pots_onehot = pd.get_dummies(cat_df_sw_pots_onehot, columns=['type'], prefix = ['type'])\n",
    "cat_df_sw_pots_onehot.to_csv('/Users/erikgjesfjeld/Dropbox/CAA_2019_Krakow/sw_pots_onehot_encode.csv',index=False)"
   ]
  },
  {
   "cell_type": "code",
   "execution_count": 30,
   "metadata": {},
   "outputs": [],
   "source": [
    "##Binary Encoding\n",
    "cat_df_sw_pots_ce = cat_df_sw_pots.copy()\n",
    "import category_encoders as ce\n",
    "encoder = ce.BinaryEncoder(cols=['ware','type'])\n",
    "df_binary = encoder.fit_transform(cat_df_sw_pots_ce)\n",
    "df_binary.to_csv('/Users/erikgjesfjeld/Dropbox/CAA_2019_Krakow/sw_pots_binary.csv',index=False)\n"
   ]
  },
  {
   "cell_type": "code",
   "execution_count": 31,
   "metadata": {},
   "outputs": [],
   "source": [
    "###BackwardsDifference\n",
    "encoder = ce.BackwardDifferenceEncoder(cols=['ware','type'])\n",
    "df_bd = encoder.fit_transform(cat_df_sw_pots_ce)\n",
    "df_bd.to_csv('/Users/erikgjesfjeld/Dropbox/CAA_2019_Krakow/sw_pots_backdiff.csv',index=False)"
   ]
  },
  {
   "cell_type": "code",
   "execution_count": null,
   "metadata": {},
   "outputs": [],
   "source": []
  }
 ],
 "metadata": {
  "kernelspec": {
   "display_name": "Python 2",
   "language": "python",
   "name": "python2"
  },
  "language_info": {
   "codemirror_mode": {
    "name": "ipython",
    "version": 2
   },
   "file_extension": ".py",
   "mimetype": "text/x-python",
   "name": "python",
   "nbconvert_exporter": "python",
   "pygments_lexer": "ipython2",
   "version": "2.7.15"
  }
 },
 "nbformat": 4,
 "nbformat_minor": 2
}
